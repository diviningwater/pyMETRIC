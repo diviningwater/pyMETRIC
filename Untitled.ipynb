{
 "cells": [
  {
   "cell_type": "code",
   "execution_count": 5,
   "id": "5968deed-333c-4332-bae2-21fef233a628",
   "metadata": {},
   "outputs": [],
   "source": [
    "# Model to run: \n",
    "# model=pyMETRIC\n",
    "import numpy as np\n",
    "# import rasterio"
   ]
  },
  {
   "cell_type": "code",
   "execution_count": null,
   "id": "f2ee9088",
   "metadata": {},
   "outputs": [],
   "source": [
    "import os\n",
    "# import gdal\n",
    "from osgeo import gdal\n"
   ]
  },
  {
   "cell_type": "code",
   "execution_count": 17,
   "id": "06623f76",
   "metadata": {},
   "outputs": [],
   "source": [
    "\n",
    "# file = \"path+filename\"\n",
    "file = r\"D:/Github/pyMETRIC/Input/ExampleImage_Trad_pm.tif\"\n",
    "ds = gdal.Open(file)\n",
    "band = ds.GetRasterBand(1)\n",
    "arr = band.ReadAsArray()\n",
    "\n",
    "[rows, cols] = arr.shape\n",
    "arr_min = arr.min()\n",
    "arr_max = arr.max()\n",
    "arr_mean = int(arr.mean())\n",
    "arr_out = np.where((arr < arr_mean), 10000, arr)\n",
    "driver = gdal.GetDriverByName(\"GTiff\")\n",
    "outFileName = \"output_file.tif\"  # Define the output file name\n",
    "outdata = driver.Create(outFileName, cols, rows, 1, gdal.GDT_UInt16)\n",
    "outdata.SetGeoTransform(ds.GetGeoTransform())  # sets same geotransform as input\n",
    "outdata.SetProjection(ds.GetProjection())  # sets same projection as input\n",
    "outdata.GetRasterBand(1).WriteArray(arr_out)\n",
    "outdata.GetRasterBand(1).SetNoDataValue(10000)  # if you want these values transparent\n",
    "outdata.FlushCache()  # saves to disk!!\n",
    "outdata = None\n",
    "band = None\n",
    "ds = None"
   ]
  },
  {
   "cell_type": "markdown",
   "id": "2df6cb60-7bd3-4057-870a-84de5ea80b25",
   "metadata": {},
   "source": [
    "#==============================================================================\n",
    "# Input Files with full path (any valid gdal raster file is accepcted (not HDF or NETCDF!!!)\n",
    "# Use forward slash '/' for path separators, even using Windows\n",
    "#=============================================================================="
   ]
  },
  {
   "cell_type": "code",
   "execution_count": null,
   "id": "48e24e89-1e77-4bae-9e47-2ea8a819d825",
   "metadata": {},
   "outputs": [],
   "source": [
    "# Input land surface temperature in Kelvin # mandatory file\n",
    "#T_R1=./Input/ExampleImage_Trad_pm.tif\n",
    "T_R1=r\"D:/Github/pyMETRIC/Input/ExampleImage_Trad_pm.tif\"\n",
    "ds = gdal.Open(file)\n",
    "band = ds.GetRasterBand(1)\n",
    "T_R1 = band.ReadAsArray()\n",
    "band = None\n",
    "ds = None\n",
    "\n",
    "# Processing Mask (boolean) # Optional, type a full-path file for processing only on non-masked pixels (all pixels with values > 0 in the mask image will be processed)\n",
    "input_mask=0\n",
    "\n",
    "# Effective Leaf Area Index (m2/m2) # Optional, type either a full-path file or a single value for a constant value acroos the area\n",
    "# LAI=./Input/ExampleImage_LAI.tif\n",
    "file=r\"D:/Github/pyMETRIC/Input/ExampleImage_LAI.tif\"\n",
    "ds = gdal.Open(file)\n",
    "band = ds.GetRasterBand(1)\n",
    "LAI = band.ReadAsArray()\n",
    "band = None\n",
    "ds = None\n",
    "\n",
    "# NDVI constant value acroos the area\n",
    "# VI=./Input/ExampleImage_NDVI.tif\n",
    "file=r\"D:/Github/pyMETRIC/Input/ExampleImage_NDVI.tif\"\n",
    "ds = gdal.Open(file)\n",
    "band = ds.GetRasterBand(1)\n",
    "VI = band.ReadAsArray()\n",
    "band = None\n",
    "ds = None\n",
    "\n",
    "# Vegetation Fractional Cover # Optional, type either a full-path file or a single value for a constant value acroos the area\n",
    "f_c=0.4\n",
    "\n",
    "# Canopy height (m)# Optional, type either a full-path file or a single value for a constant value along the area\n",
    "h_C=2.4\n",
    "\n",
    "# Canopy height/with ratio (wc/hc) # Optional, type either a full-path file or a single value for a constant value along the area\n",
    "w_C=1\n",
    " "
   ]
  },
  {
   "cell_type": "code",
   "execution_count": null,
   "id": "ecc09f98-fb0f-47d7-8fbf-74e14be550b5",
   "metadata": {},
   "outputs": [],
   "source": [
    "#==============================================================================\n",
    "# Output File\n",
    "#==============================================================================\n",
    "# full path to output directory, The output GeoTIFF files will be stored in that folder with a standard name : Output_<TSEB_MODEL>.tif (4 bands: Rn, H, LE, G) and Output_<TSEB_MODEL>_ancillary.tif\n",
    "output_file=./Output/test_image.vrt"
   ]
  },
  {
   "cell_type": "code",
   "execution_count": null,
   "id": "3479c3e3-ffde-47de-8f3b-fc2553a74b3b",
   "metadata": {},
   "outputs": [],
   "source": [
    "#==============================================================================\n",
    "# Site Description\n",
    "#==============================================================================\n",
    "lat=38.289355\t\n",
    "lon=-121.117794\n",
    "alt=97\n",
    "stdlon=-105.0\n",
    "z_T=5\n",
    "z_u=5"
   ]
  },
  {
   "cell_type": "code",
   "execution_count": null,
   "id": "0919eed5-a110-421e-bde5-aed9c073c629",
   "metadata": {},
   "outputs": [],
   "source": [
    "#==============================================================================\n",
    "# Meteorology\n",
    "#==============================================================================\n",
    "DOY=221\t\n",
    "time=10.9992\t\n",
    "T_A1=299.18\n",
    "u=2.15\n",
    "p=1011\n",
    "ea=13.4\n",
    "S_dn=861.74\n",
    "L_dn="
   ]
  },
  {
   "cell_type": "code",
   "execution_count": null,
   "id": "61fba919-edbf-4956-9594-3ad675637329",
   "metadata": {},
   "outputs": [],
   "source": [
    "#==============================================================================\n",
    "# Canopy and Soil spectra\n",
    "#==============================================================================\n",
    "emis_C=0.98 # leaf emissivity\n",
    "emis_S=0.95 # soil emissivity\n",
    "\n",
    "# Leaf spectral properties:{rho_vis_C: visible reflectance, tau_vis_C: visible transmittance, rho_nir_C: NIR reflectance, tau_nir_C: NIR transmittance}\n",
    "rho_vis_C=0.07\n",
    "tau_vis_C=0.08\n",
    "rho_nir_C=0.32\n",
    "tau_nir_C=0.33 \n",
    "\n",
    "# Soil spectral properties:{rho_vis_S: visible reflectance, rho_nir_S: NIR reflectance}\n",
    "rho_vis_S=0.15\n",
    "rho_nir_S=0.25"
   ]
  },
  {
   "cell_type": "code",
   "execution_count": null,
   "id": "d5543efa-2a1c-46c4-86c7-3a972d81c3b0",
   "metadata": {},
   "outputs": [],
   "source": [
    "#==============================================================================\n",
    "# Canopy and soil parameters\n",
    "#==============================================================================\n",
    "# Cambpbell 1990 leaf inclination distribution parameter:[x_LAD=1 for spherical LIDF, x_LAD=0 for vertical LIDF, x_LAD=float(inf) for horzontal LIDF]  \n",
    "x_LAD=1\n",
    "\n",
    "# Primary land cover IGBP Land Cover Type Classification: CROP=12, GRASS=10, SHRUB=6, CONIFER=1, BROADLEAVED=4\n",
    "landcover=12"
   ]
  },
  {
   "cell_type": "code",
   "execution_count": null,
   "id": "74a40e21-dd70-456b-8cc7-344db005fe2a",
   "metadata": {},
   "outputs": [],
   "source": [
    "#==============================================================================\n",
    "# Resistances\n",
    "#==============================================================================\n",
    "use_METRIC_resistance=1   # Resistance formulations: 0 - Kustas & Norman 1999; 1 - Allen 1998\n",
    "# Bare soil roughness lenght (m)\n",
    "z0_soil=0.01 "
   ]
  },
  {
   "cell_type": "code",
   "execution_count": null,
   "id": "06ac3603-9ec2-4644-ad58-439c467b32ef",
   "metadata": {},
   "outputs": [],
   "source": [
    "#==============================================================================\n",
    "# Additional options\n",
    "#==============================================================================\n",
    "# Soil Heat Flux calculation\n",
    "#1: default, estimate G as a ratio of Rn_soil, default G_ratio=0.35\n",
    "#0: Use a constant G, usually use G_Constant=0 to ignore the computation of G\n",
    "#2: estimate G from Santanello and Friedl with GAmp the maximum ration amplitude, Gphase, the time shift between G and Rn (hours) and Gshape the typical diurnal shape (hours)\n",
    "#4: Use ASCE PET G ratios for either tall or short vegetation\n",
    "G_form=4\n",
    "G_tall=0.04\n",
    "G_short=0.10"
   ]
  },
  {
   "cell_type": "code",
   "execution_count": null,
   "id": "0bef0abb-0e15-425b-9071-1059f4fe9e82",
   "metadata": {},
   "outputs": [],
   "source": [
    "#==============================================================================\n",
    "# METRIC optons\n",
    "#==============================================================================\n",
    "# Search method \n",
    "# 0 : Allen et al. 2013: calibration using inverse modeling at extreme conditions (CIMEC)\n",
    "# 1 : Bhattarai et al. 2017: exhaustive search algorithm (ESA)\n",
    "# 2 : Minimum and maximum temperatures\n",
    "endmember_search=2\n",
    "ETrF_bare=0"
   ]
  }
 ],
 "metadata": {
  "kernelspec": {
   "display_name": "pyTSEB",
   "language": "python",
   "name": "python3"
  },
  "language_info": {
   "codemirror_mode": {
    "name": "ipython",
    "version": 3
   },
   "file_extension": ".py",
   "mimetype": "text/x-python",
   "name": "python",
   "nbconvert_exporter": "python",
   "pygments_lexer": "ipython3",
   "version": "3.13.2"
  }
 },
 "nbformat": 4,
 "nbformat_minor": 5
}
